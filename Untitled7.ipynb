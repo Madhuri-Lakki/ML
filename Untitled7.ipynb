{
 "cells": [
  {
   "cell_type": "code",
   "execution_count": 56,
   "metadata": {},
   "outputs": [
    {
     "name": "stdout",
     "output_type": "stream",
     "text": [
      "7\n",
      "July\n",
      "June\n",
      "2020\n",
      "Vehicles Expired in July 2020\n",
      "Vehicles Due for Expiry in June 2020\n",
      "Vehicles Renewed in July 2020\n"
     ]
    }
   ],
   "source": [
    "import datetime\n",
    "import calendar\n",
    "from datetime import date, timedelta\n",
    "##Year = datetime.datetime.today().year\n",
    "date  = datetime.datetime.now()\n",
    "first_day = date.replace(day = 1)\n",
    "last_day = date.replace(day = calendar.monthrange(date.year, date.month)[1])\n",
    "daystart = first_day.strftime('%d-%m-%Y')\n",
    "daylast = last_day.strftime('%d-%m-%Y')\n",
    "print(date.month)\n",
    "datemonth = date.strftime(\"%B\")\n",
    "print(datemonth)\n",
    "last_day_prev_month = first_day - timedelta(days=30)\n",
    "prev_month_name = last_day_prev_month.strftime(\"%B\")\n",
    "print(prev_month_name)\n",
    "Yearstr = date.strftime(\"%Y\")\n",
    "##print(Year)\n",
    "print(Yearstr)\n",
    "print('Vehicles Expired in '+datemonth +' 2020')\n",
    "print('Vehicles Due for Expiry in '+prev_month_name+' 2020')\n",
    "print('Vehicles Renewed in '+datemonth +' 2020')"
   ]
  },
  {
   "cell_type": "code",
   "execution_count": null,
   "metadata": {},
   "outputs": [],
   "source": [
    ">>> _, num_days = calendar.monthrange(2016, 3)\n",
    ">>> first_day = datetime.date(2016, 3, 1)\n",
    ">>> last_day = datetime.date(2016, 3, num_days)\n",
    ">>> first_day\n",
    "datetime.date(2016, 3, 1)\n",
    ">>> last_day\n",
    "datetime.date(2016, 3, 31)"
   ]
  },
  {
   "cell_type": "code",
   "execution_count": null,
   "metadata": {},
   "outputs": [],
   "source": [
    "> import datetime\n",
    ">>> import calendar\n",
    ">>> date  = datetime.datetime.now()\n",
    "\n",
    ">>> print date\n",
    "2015-03-06 01:25:14.939574\n",
    "\n",
    ">>> print date.replace(day = 1)\n",
    "2015-03-01 01:25:14.939574\n",
    "\n",
    ">>> print date.replace(day = calendar.monthrange(date.year, date.month)[1])\n",
    "2015-03-31 01:25:14.939574"
   ]
  },
  {
   "cell_type": "code",
   "execution_count": 34,
   "metadata": {},
   "outputs": [
    {
     "name": "stdout",
     "output_type": "stream",
     "text": [
      "30 days, 0:00:00\n"
     ]
    }
   ],
   "source": [
    "import datetime\n",
    "d = datetime.date.today() - datetime.timedelta(days=30)\n",
    "print(d)"
   ]
  },
  {
   "cell_type": "code",
   "execution_count": null,
   "metadata": {},
   "outputs": [],
   "source": []
  }
 ],
 "metadata": {
  "kernelspec": {
   "display_name": "Python 3",
   "language": "python",
   "name": "python3"
  },
  "language_info": {
   "codemirror_mode": {
    "name": "ipython",
    "version": 3
   },
   "file_extension": ".py",
   "mimetype": "text/x-python",
   "name": "python",
   "nbconvert_exporter": "python",
   "pygments_lexer": "ipython3",
   "version": "3.7.1"
  }
 },
 "nbformat": 4,
 "nbformat_minor": 2
}

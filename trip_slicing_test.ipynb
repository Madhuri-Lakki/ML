{
 "cells": [
  {
   "cell_type": "code",
   "execution_count": 1,
   "metadata": {},
   "outputs": [],
   "source": [
    "import pandas as pd\n",
    "import datetime as dt\n",
    "from datetime import time,timedelta\n",
    "import numpy as np\n",
    "pd.set_option('display.max_columns', 110)"
   ]
  },
  {
   "cell_type": "code",
   "execution_count": 2,
   "metadata": {},
   "outputs": [
    {
     "name": "stdout",
     "output_type": "stream",
     "text": [
      "Requirement already satisfied: psycopg2 in c:\\programdata\\anaconda3\\lib\\site-packages (2.8.4)\n"
     ]
    }
   ],
   "source": [
    "!pip install psycopg2 --proxy=\"http://alcobproxy:8080\" --trusted-host pypi.org --trusted-host files.pythonhosted.org"
   ]
  },
  {
   "cell_type": "code",
   "execution_count": 3,
   "metadata": {},
   "outputs": [
    {
     "name": "stdout",
     "output_type": "stream",
     "text": [
      "Requirement already satisfied: pykdtree in c:\\programdata\\anaconda3\\lib\\site-packages (1.3.1)\n",
      "Requirement already satisfied: numpy in c:\\programdata\\anaconda3\\lib\\site-packages (from pykdtree) (1.15.4)\n"
     ]
    }
   ],
   "source": [
    "!pip install pykdtree --proxy=\"http://alcobproxy:8080\" --trusted-host pypi.org --trusted-host files.pythonhosted.org"
   ]
  },
  {
   "cell_type": "code",
   "execution_count": 4,
   "metadata": {},
   "outputs": [],
   "source": [
    "#from scipy.spatial import KDTree\n",
    "from pykdtree.kdtree import KDTree\n",
    "from math import *\n",
    "\n",
    "def to_Cartesian(lat, lng):\n",
    "    R = 6371 # radius of the Earth in kilometers\n",
    "    lat = radians(lat)\n",
    "    lng = radians(lng)\n",
    "    x = R * cos(lat) * cos(lng)\n",
    "    y = R * cos(lat) * sin(lng)\n",
    "    z = R * sin(lat)\n",
    "    return x, y, z"
   ]
  },
  {
   "cell_type": "code",
   "execution_count": 5,
   "metadata": {},
   "outputs": [
    {
     "ename": "FileNotFoundError",
     "evalue": "File b'EV_PERIODIC_DATA_JAN11.csv' does not exist",
     "output_type": "error",
     "traceback": [
      "\u001b[1;31m---------------------------------------------------------------------------\u001b[0m",
      "\u001b[1;31mFileNotFoundError\u001b[0m                         Traceback (most recent call last)",
      "\u001b[1;32m<ipython-input-5-a31e22b0d1be>\u001b[0m in \u001b[0;36m<module>\u001b[1;34m\u001b[0m\n\u001b[0;32m      1\u001b[0m \u001b[1;31m#change this file\u001b[0m\u001b[1;33m\u001b[0m\u001b[1;33m\u001b[0m\u001b[1;33m\u001b[0m\u001b[0m\n\u001b[1;32m----> 2\u001b[1;33m \u001b[0mdf\u001b[0m \u001b[1;33m=\u001b[0m \u001b[0mpd\u001b[0m\u001b[1;33m.\u001b[0m\u001b[0mread_csv\u001b[0m\u001b[1;33m(\u001b[0m\u001b[1;34m'EV_PERIODIC_DATA_JAN11.csv'\u001b[0m\u001b[1;33m)\u001b[0m\u001b[1;33m\u001b[0m\u001b[1;33m\u001b[0m\u001b[0m\n\u001b[0m\u001b[0;32m      3\u001b[0m \u001b[0mdepot\u001b[0m \u001b[1;33m=\u001b[0m \u001b[0mpd\u001b[0m\u001b[1;33m.\u001b[0m\u001b[0mread_csv\u001b[0m\u001b[1;33m(\u001b[0m\u001b[1;34m'Lat_Long_EV_Ahmedabad_corrected.csv'\u001b[0m\u001b[1;33m)\u001b[0m\u001b[1;33m\u001b[0m\u001b[1;33m\u001b[0m\u001b[0m\n\u001b[0;32m      4\u001b[0m \u001b[1;31m#changed destiation lat lon for RTO circle (vijay nagar, Ranip) and Jaimangal (Naranpura amts bus depot)\u001b[0m\u001b[1;33m\u001b[0m\u001b[1;33m\u001b[0m\u001b[1;33m\u001b[0m\u001b[0m\n",
      "\u001b[1;32mC:\\ProgramData\\Anaconda3\\lib\\site-packages\\pandas\\io\\parsers.py\u001b[0m in \u001b[0;36mparser_f\u001b[1;34m(filepath_or_buffer, sep, delimiter, header, names, index_col, usecols, squeeze, prefix, mangle_dupe_cols, dtype, engine, converters, true_values, false_values, skipinitialspace, skiprows, nrows, na_values, keep_default_na, na_filter, verbose, skip_blank_lines, parse_dates, infer_datetime_format, keep_date_col, date_parser, dayfirst, iterator, chunksize, compression, thousands, decimal, lineterminator, quotechar, quoting, escapechar, comment, encoding, dialect, tupleize_cols, error_bad_lines, warn_bad_lines, skipfooter, doublequote, delim_whitespace, low_memory, memory_map, float_precision)\u001b[0m\n\u001b[0;32m    676\u001b[0m                     skip_blank_lines=skip_blank_lines)\n\u001b[0;32m    677\u001b[0m \u001b[1;33m\u001b[0m\u001b[0m\n\u001b[1;32m--> 678\u001b[1;33m         \u001b[1;32mreturn\u001b[0m \u001b[0m_read\u001b[0m\u001b[1;33m(\u001b[0m\u001b[0mfilepath_or_buffer\u001b[0m\u001b[1;33m,\u001b[0m \u001b[0mkwds\u001b[0m\u001b[1;33m)\u001b[0m\u001b[1;33m\u001b[0m\u001b[1;33m\u001b[0m\u001b[0m\n\u001b[0m\u001b[0;32m    679\u001b[0m \u001b[1;33m\u001b[0m\u001b[0m\n\u001b[0;32m    680\u001b[0m     \u001b[0mparser_f\u001b[0m\u001b[1;33m.\u001b[0m\u001b[0m__name__\u001b[0m \u001b[1;33m=\u001b[0m \u001b[0mname\u001b[0m\u001b[1;33m\u001b[0m\u001b[1;33m\u001b[0m\u001b[0m\n",
      "\u001b[1;32mC:\\ProgramData\\Anaconda3\\lib\\site-packages\\pandas\\io\\parsers.py\u001b[0m in \u001b[0;36m_read\u001b[1;34m(filepath_or_buffer, kwds)\u001b[0m\n\u001b[0;32m    438\u001b[0m \u001b[1;33m\u001b[0m\u001b[0m\n\u001b[0;32m    439\u001b[0m     \u001b[1;31m# Create the parser.\u001b[0m\u001b[1;33m\u001b[0m\u001b[1;33m\u001b[0m\u001b[1;33m\u001b[0m\u001b[0m\n\u001b[1;32m--> 440\u001b[1;33m     \u001b[0mparser\u001b[0m \u001b[1;33m=\u001b[0m \u001b[0mTextFileReader\u001b[0m\u001b[1;33m(\u001b[0m\u001b[0mfilepath_or_buffer\u001b[0m\u001b[1;33m,\u001b[0m \u001b[1;33m**\u001b[0m\u001b[0mkwds\u001b[0m\u001b[1;33m)\u001b[0m\u001b[1;33m\u001b[0m\u001b[1;33m\u001b[0m\u001b[0m\n\u001b[0m\u001b[0;32m    441\u001b[0m \u001b[1;33m\u001b[0m\u001b[0m\n\u001b[0;32m    442\u001b[0m     \u001b[1;32mif\u001b[0m \u001b[0mchunksize\u001b[0m \u001b[1;32mor\u001b[0m \u001b[0miterator\u001b[0m\u001b[1;33m:\u001b[0m\u001b[1;33m\u001b[0m\u001b[1;33m\u001b[0m\u001b[0m\n",
      "\u001b[1;32mC:\\ProgramData\\Anaconda3\\lib\\site-packages\\pandas\\io\\parsers.py\u001b[0m in \u001b[0;36m__init__\u001b[1;34m(self, f, engine, **kwds)\u001b[0m\n\u001b[0;32m    785\u001b[0m             \u001b[0mself\u001b[0m\u001b[1;33m.\u001b[0m\u001b[0moptions\u001b[0m\u001b[1;33m[\u001b[0m\u001b[1;34m'has_index_names'\u001b[0m\u001b[1;33m]\u001b[0m \u001b[1;33m=\u001b[0m \u001b[0mkwds\u001b[0m\u001b[1;33m[\u001b[0m\u001b[1;34m'has_index_names'\u001b[0m\u001b[1;33m]\u001b[0m\u001b[1;33m\u001b[0m\u001b[1;33m\u001b[0m\u001b[0m\n\u001b[0;32m    786\u001b[0m \u001b[1;33m\u001b[0m\u001b[0m\n\u001b[1;32m--> 787\u001b[1;33m         \u001b[0mself\u001b[0m\u001b[1;33m.\u001b[0m\u001b[0m_make_engine\u001b[0m\u001b[1;33m(\u001b[0m\u001b[0mself\u001b[0m\u001b[1;33m.\u001b[0m\u001b[0mengine\u001b[0m\u001b[1;33m)\u001b[0m\u001b[1;33m\u001b[0m\u001b[1;33m\u001b[0m\u001b[0m\n\u001b[0m\u001b[0;32m    788\u001b[0m \u001b[1;33m\u001b[0m\u001b[0m\n\u001b[0;32m    789\u001b[0m     \u001b[1;32mdef\u001b[0m \u001b[0mclose\u001b[0m\u001b[1;33m(\u001b[0m\u001b[0mself\u001b[0m\u001b[1;33m)\u001b[0m\u001b[1;33m:\u001b[0m\u001b[1;33m\u001b[0m\u001b[1;33m\u001b[0m\u001b[0m\n",
      "\u001b[1;32mC:\\ProgramData\\Anaconda3\\lib\\site-packages\\pandas\\io\\parsers.py\u001b[0m in \u001b[0;36m_make_engine\u001b[1;34m(self, engine)\u001b[0m\n\u001b[0;32m   1012\u001b[0m     \u001b[1;32mdef\u001b[0m \u001b[0m_make_engine\u001b[0m\u001b[1;33m(\u001b[0m\u001b[0mself\u001b[0m\u001b[1;33m,\u001b[0m \u001b[0mengine\u001b[0m\u001b[1;33m=\u001b[0m\u001b[1;34m'c'\u001b[0m\u001b[1;33m)\u001b[0m\u001b[1;33m:\u001b[0m\u001b[1;33m\u001b[0m\u001b[1;33m\u001b[0m\u001b[0m\n\u001b[0;32m   1013\u001b[0m         \u001b[1;32mif\u001b[0m \u001b[0mengine\u001b[0m \u001b[1;33m==\u001b[0m \u001b[1;34m'c'\u001b[0m\u001b[1;33m:\u001b[0m\u001b[1;33m\u001b[0m\u001b[1;33m\u001b[0m\u001b[0m\n\u001b[1;32m-> 1014\u001b[1;33m             \u001b[0mself\u001b[0m\u001b[1;33m.\u001b[0m\u001b[0m_engine\u001b[0m \u001b[1;33m=\u001b[0m \u001b[0mCParserWrapper\u001b[0m\u001b[1;33m(\u001b[0m\u001b[0mself\u001b[0m\u001b[1;33m.\u001b[0m\u001b[0mf\u001b[0m\u001b[1;33m,\u001b[0m \u001b[1;33m**\u001b[0m\u001b[0mself\u001b[0m\u001b[1;33m.\u001b[0m\u001b[0moptions\u001b[0m\u001b[1;33m)\u001b[0m\u001b[1;33m\u001b[0m\u001b[1;33m\u001b[0m\u001b[0m\n\u001b[0m\u001b[0;32m   1015\u001b[0m         \u001b[1;32melse\u001b[0m\u001b[1;33m:\u001b[0m\u001b[1;33m\u001b[0m\u001b[1;33m\u001b[0m\u001b[0m\n\u001b[0;32m   1016\u001b[0m             \u001b[1;32mif\u001b[0m \u001b[0mengine\u001b[0m \u001b[1;33m==\u001b[0m \u001b[1;34m'python'\u001b[0m\u001b[1;33m:\u001b[0m\u001b[1;33m\u001b[0m\u001b[1;33m\u001b[0m\u001b[0m\n",
      "\u001b[1;32mC:\\ProgramData\\Anaconda3\\lib\\site-packages\\pandas\\io\\parsers.py\u001b[0m in \u001b[0;36m__init__\u001b[1;34m(self, src, **kwds)\u001b[0m\n\u001b[0;32m   1706\u001b[0m         \u001b[0mkwds\u001b[0m\u001b[1;33m[\u001b[0m\u001b[1;34m'usecols'\u001b[0m\u001b[1;33m]\u001b[0m \u001b[1;33m=\u001b[0m \u001b[0mself\u001b[0m\u001b[1;33m.\u001b[0m\u001b[0musecols\u001b[0m\u001b[1;33m\u001b[0m\u001b[1;33m\u001b[0m\u001b[0m\n\u001b[0;32m   1707\u001b[0m \u001b[1;33m\u001b[0m\u001b[0m\n\u001b[1;32m-> 1708\u001b[1;33m         \u001b[0mself\u001b[0m\u001b[1;33m.\u001b[0m\u001b[0m_reader\u001b[0m \u001b[1;33m=\u001b[0m \u001b[0mparsers\u001b[0m\u001b[1;33m.\u001b[0m\u001b[0mTextReader\u001b[0m\u001b[1;33m(\u001b[0m\u001b[0msrc\u001b[0m\u001b[1;33m,\u001b[0m \u001b[1;33m**\u001b[0m\u001b[0mkwds\u001b[0m\u001b[1;33m)\u001b[0m\u001b[1;33m\u001b[0m\u001b[1;33m\u001b[0m\u001b[0m\n\u001b[0m\u001b[0;32m   1709\u001b[0m \u001b[1;33m\u001b[0m\u001b[0m\n\u001b[0;32m   1710\u001b[0m         \u001b[0mpassed_names\u001b[0m \u001b[1;33m=\u001b[0m \u001b[0mself\u001b[0m\u001b[1;33m.\u001b[0m\u001b[0mnames\u001b[0m \u001b[1;32mis\u001b[0m \u001b[1;32mNone\u001b[0m\u001b[1;33m\u001b[0m\u001b[1;33m\u001b[0m\u001b[0m\n",
      "\u001b[1;32mpandas\\_libs\\parsers.pyx\u001b[0m in \u001b[0;36mpandas._libs.parsers.TextReader.__cinit__\u001b[1;34m()\u001b[0m\n",
      "\u001b[1;32mpandas\\_libs\\parsers.pyx\u001b[0m in \u001b[0;36mpandas._libs.parsers.TextReader._setup_parser_source\u001b[1;34m()\u001b[0m\n",
      "\u001b[1;31mFileNotFoundError\u001b[0m: File b'EV_PERIODIC_DATA_JAN11.csv' does not exist"
     ]
    }
   ],
   "source": [
    "#change this file\n",
    "df = pd.read_csv('EV_PERIODIC_DATA_JAN11.csv')\n",
    "depot = pd.read_csv('Lat_Long_EV_Ahmedabad_corrected.csv')\n",
    "#changed destiation lat lon for RTO circle (vijay nagar, Ranip) and Jaimangal (Naranpura amts bus depot)"
   ]
  },
  {
   "cell_type": "code",
   "execution_count": null,
   "metadata": {},
   "outputs": [],
   "source": [
    "df=df[['OBU_ID','VIN','EVENT_UTC', 'TIMESTAMP_LOCAL','PUBLISH_UTC','LATITUDE','LONGITUDE','IGNITION_STATUS','VEHICLE_BATTERY_POTENTIAL','VEHICLE_ODO_METER','BATTERY_STATUS','CHARGER_STATUS','RECEIVED_TIMESTAMP', 'WHEEL_BASED_VEHICLE_SPEED', 'SOC', 'BATTERY_OUT']]\n",
    "\n",
    "#df['TIMESTAMP_LOCAL1']=df['TIMESTAMP_LOCAL'].apply(lambda x: x.split('.')[0])\n",
    "df['TIMESTAMP_LOCAL1']=df['TIMESTAMP_LOCAL'].str.split('.',expand = True)[0]\n",
    "\n",
    "df['TIMESTAMP_LOCAL1'] = pd.to_datetime(df['TIMESTAMP_LOCAL1'])\n",
    "\n",
    "#Deleting duplicates\n",
    "df = df.drop_duplicates(subset= ['OBU_ID','TIMESTAMP_LOCAL1'])\n",
    "\n",
    "#sorting\n",
    "df=df.sort_values(by=['OBU_ID','TIMESTAMP_LOCAL1'],ascending=True)\n",
    "df.reset_index(inplace=True,drop=True)\n",
    "\n",
    "\n",
    "df['Ignition_next']= df.groupby(\"OBU_ID\")['IGNITION_STATUS'].shift(-1)\n",
    "\n",
    "df['TIMESTAMP_LOCAL1_next']=df.groupby(['OBU_ID'])['TIMESTAMP_LOCAL1'].shift(-1)\n",
    "\n",
    "#stopping period based on ignition\n",
    "df['time_difference']= df['TIMESTAMP_LOCAL1_next'] - df['TIMESTAMP_LOCAL1']\n",
    "df['time_difference']=df['time_difference']/timedelta(minutes=1)\n",
    "\n",
    "df['WHEEL_BASED_VEHICLE_SPEED_prev']=df.groupby(['OBU_ID'])['WHEEL_BASED_VEHICLE_SPEED'].shift(1)\n",
    "\n",
    "df['idle_flag']=np.where( (df['WHEEL_BASED_VEHICLE_SPEED'] == 0.0) & (df['WHEEL_BASED_VEHICLE_SPEED_prev'] > 0.0), 1, 0)\n",
    "\n",
    "df['idle_id'] =  df.groupby(['OBU_ID'])['idle_flag'].transform(pd.Series.cumsum)\n",
    "\n",
    "#stopping period based on vehicle wheel speed\n",
    "\n",
    "df['idle_time'] = np.where(df['WHEEL_BASED_VEHICLE_SPEED'] == 0.0, df['time_difference'],0) ##doubt\n",
    "\n",
    "df['total_idle_time'] =  df.groupby(['OBU_ID', 'idle_id'])['idle_time'].transform(pd.Series.cumsum)"
   ]
  },
  {
   "cell_type": "code",
   "execution_count": null,
   "metadata": {},
   "outputs": [],
   "source": [
    "depot['x1'], depot['y1'], depot['z1'] = zip(*map(to_Cartesian, depot['Used_lat'], depot['Used_lon']))\n",
    "Y = list(zip(depot['x1'], depot['y1'], depot['z1']))\n",
    "\n",
    "df['x'], df['y'], df['z'] = zip(*map(to_Cartesian, df['LATITUDE'], df['LONGITUDE']))\n",
    "X = list(zip(df['x'], df['y'], df['z']))\n",
    "\n",
    "X= np.asarray(X)\n",
    "Y= np.asarray(Y)\n",
    "\n",
    "tree = KDTree(Y)\n",
    "neighbor_dists, neighbor_indices = tree.query(X, k=1)\n",
    "\n",
    "df.drop(columns=['x', 'y', 'z'],inplace=True)\n",
    "\n",
    "df['dist_from_dest'] = neighbor_dists\n",
    "\n",
    "#new trip identifier\n",
    "# either first record or \n",
    "# G, H, I - whenever ignition status has moved from 0 to 1 (ignition next) and the time difference is more than 2 min or\n",
    "# F - total idle time > 2 min\n",
    "# D - and importantly the lat long is at most 200m from one of the destinations (201/101 routes are parked 1.5 km from RTO circle, so i have changed depot destinations)\n",
    "#if  there is no record for more than 30 min then reset the trip - A\n",
    "#if the vehicle has stopped near the depot and we don't get any further records, then also close the trip  - J\n",
    "\n",
    "\n",
    "no_records_time_check = 30.0 # in min\n",
    "ignition_off_time_check = 2.0  #in min\n",
    "zero_speed_time_check = 2.0  # in min\n",
    "dist_from_depot_check = 0.2  # in km  # 200 m\n",
    "\n",
    "A = (df['time_difference'] > no_records_time_check) \n",
    "\n",
    "D = ( df['dist_from_dest'] < dist_from_depot_check)\n",
    "\n",
    "F = ( df['total_idle_time'] > zero_speed_time_check )\n",
    "G =  (df['IGNITION_STATUS'] == 0)\n",
    "H = (df['Ignition_next'] == 1 )\n",
    "I = (df['time_difference'] > ignition_off_time_check)\n",
    "J = (df['time_difference'].isna())\n",
    "\n",
    "E = (G & ((H & I ) | J))\n",
    "C = (E | F)\n",
    "B = (C & D)\n",
    "\n",
    "\n",
    "#temp_trip_flag indicates a trip closing\n",
    "df['temp_trip_flag'] = np.where( (A | B) , 1, 0)\n",
    "\n",
    "# the trip starts from the next record onwards. so move the flag one row\n",
    "df['new_trip_flag'] = df.groupby(['OBU_ID'])['temp_trip_flag'].shift(1)\n",
    "\n",
    "df['new_trip_flag'] = np.where(df['new_trip_flag'].isna() == True, 1, df['new_trip_flag'])\n",
    "\n",
    "#generate trip id\n",
    "df['trip_id'] =  df.groupby(['OBU_ID'])['new_trip_flag'].transform(pd.Series.cumsum)\n",
    "\n",
    "#consider only those trips that have trip closing - temp_trip_flag is 1\n",
    "#this may be helpful when we run the logic every 1 hour; unfinished trips will not be considered then\n",
    "df['is_trip_completed'] =  df.groupby(['OBU_ID', 'trip_id'])['temp_trip_flag'].transform(pd.Series.sum)\n",
    "\n",
    "df = df[df['is_trip_completed'] == 1]"
   ]
  },
  {
   "cell_type": "code",
   "execution_count": null,
   "metadata": {},
   "outputs": [],
   "source": [
    "df_trip = df.groupby(['OBU_ID', 'trip_id']).agg(['first', 'last'])['TIMESTAMP_LOCAL1']\n",
    "\n",
    "df_temp = df[df['SOC'] != 0]\n",
    "df_trip_soc = df_temp.groupby(['OBU_ID', 'trip_id']).agg(['first', 'last'])['SOC']\n",
    "\n",
    "df_temp = df[df['VEHICLE_ODO_METER'] != 0]\n",
    "df_trip_odo = df_temp.groupby(['OBU_ID', 'trip_id']).agg(['first', 'last'])['VEHICLE_ODO_METER']\n",
    "\n",
    "df= pd.merge(df,df_trip,how='left',left_on=['OBU_ID','trip_id'], right_on=['OBU_ID','trip_id'])\n",
    "\n",
    "df = df.rename(columns = {'first':'Trip_Start', 'last':'Trip_End'})\n",
    "\n",
    "df= pd.merge(df,df_trip_soc,how='left',left_on=['OBU_ID','trip_id'], right_on=['OBU_ID','trip_id'])\n",
    "\n",
    "df = df.rename(columns = {'first':'SOC_Start', 'last':'SOC_End'})\n",
    "\n",
    "df= pd.merge(df,df_trip_odo,how='left',left_on=['OBU_ID','trip_id'], right_on=['OBU_ID','trip_id'])\n",
    "df = df.rename(columns = {'first':'Odo_Start', 'last':'Odo_End'})\n",
    "\n",
    "df['trip_duration'] = (df['Trip_End'] - df['Trip_Start'])/timedelta(minutes=1)\n",
    "df['trip_km'] = (df['Odo_End'] - df['Odo_Start'])\n",
    "\n",
    "#energy consumed\n",
    "df_temp = df[df['BATTERY_OUT'] != 0]\n",
    "df_trip_energy = df_temp.groupby(['OBU_ID', 'trip_id']).agg(['first', 'last'])['BATTERY_OUT']\n",
    "\n",
    "df= pd.merge(df,df_trip_energy,how='left',left_on=['OBU_ID','trip_id'], right_on=['OBU_ID','trip_id'])\n",
    "df = df.rename(columns = {'first':'Battery_out_first', 'last':'Battery_out_last'})\n",
    "\n",
    "df['Energy_consumed'] = (df['Battery_out_last'] - df['Battery_out_first'])\n",
    "df['Efficiency'] = df['Energy_consumed'] / df['trip_km']"
   ]
  },
  {
   "cell_type": "code",
   "execution_count": null,
   "metadata": {},
   "outputs": [],
   "source": [
    "df_min_dist = df.groupby(['OBU_ID', 'trip_id']).agg(['min'])['dist_from_dest']\n",
    "df= pd.merge(df,df_min_dist,how='left',left_on=['OBU_ID','trip_id'], right_on=['OBU_ID','trip_id'])\n",
    "df = df.rename(columns = {'min':'trip_min_dist_from_dest'})\n",
    "\n",
    "#consider only trips with duration more than 15 min\n",
    "# remove those trips that are not close to the depots (max 5 km) and have become trips as some of them are just in the beginning of file\n",
    "\n",
    "valid_trip_duration_check = 15.0\n",
    "max_dist_from_dest_check = 5.0 # in km\n",
    "valid_trip_data = df[ (df['trip_duration'] > valid_trip_duration_check) & (df['trip_min_dist_from_dest'] < max_dist_from_dest_check)]"
   ]
  },
  {
   "cell_type": "code",
   "execution_count": null,
   "metadata": {},
   "outputs": [],
   "source": [
    "valid_trip_data.to_csv('valid_trip_test.csv', index = False)"
   ]
  },
  {
   "cell_type": "code",
   "execution_count": null,
   "metadata": {},
   "outputs": [],
   "source": []
  },
  {
   "cell_type": "code",
   "execution_count": null,
   "metadata": {},
   "outputs": [],
   "source": []
  },
  {
   "cell_type": "code",
   "execution_count": null,
   "metadata": {},
   "outputs": [],
   "source": []
  },
  {
   "cell_type": "code",
   "execution_count": null,
   "metadata": {},
   "outputs": [],
   "source": []
  }
 ],
 "metadata": {
  "kernelspec": {
   "display_name": "Python 3",
   "language": "python",
   "name": "python3"
  },
  "language_info": {
   "codemirror_mode": {
    "name": "ipython",
    "version": 3
   },
   "file_extension": ".py",
   "mimetype": "text/x-python",
   "name": "python",
   "nbconvert_exporter": "python",
   "pygments_lexer": "ipython3",
   "version": "3.7.1"
  }
 },
 "nbformat": 4,
 "nbformat_minor": 2
}

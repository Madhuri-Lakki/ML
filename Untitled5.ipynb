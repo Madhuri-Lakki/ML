{
 "cells": [
  {
   "cell_type": "code",
   "execution_count": 2,
   "metadata": {},
   "outputs": [
    {
     "name": "stdout",
     "output_type": "stream",
     "text": [
      "Fetching each row using column name\n"
     ]
    }
   ],
   "source": [
    "import pandas as pd\n",
    "##import numpy as np\n",
    "import csv\n",
    "import mysql.connector\n",
    "from mysql.connector import Error\n",
    "import os\n",
    "import glob\n",
    "import csv\n",
    "from xlsxwriter.workbook import Workbook\n",
    "##import os\n",
    "##import io\n",
    "##import xlwt \n",
    "##from xlwt import Workbook \n",
    "\n",
    "\n",
    "\n",
    "    \n",
    "try:\n",
    "    connection = mysql.connector.connect(host='localhost',\n",
    "                                         database='IALERT_MONTHLY_REPPORTDB',\n",
    "                                         user='root',\n",
    "                                         password='Lakki@123')\n",
    "    sql_select_Query = \"\"\"select * from IALERT_REPORT;\"\"\"\n",
    "\n",
    "\n",
    "    cursor = connection.cursor()\n",
    "    cursor.execute(sql_select_Query)\n",
    "    records = cursor.fetchall()\n",
    "    column_names = [i[0] for i in cursor.description]\n",
    "    ##headers = [col[0] for col in cursor.description]\n",
    "    ##records = (headers) + records\n",
    "    print(\"Fetching each row using column name\")\n",
    "\n",
    "except Error as e:\n",
    "    print(\"Error reading data from MySQL table\", e)\n",
    "##print(userid, Transporter_Name, Fleet_Size, Utlized_Veh,Utilization_Percent,Tot_Dis_Cov,Tot_Fuel_Consumed,Avg_Fuel_Efficiency,Avg_Speed,Dist_Travelled_Per_Veh_Per_day,Idling_Hrs,Idling_Fuel_Cost,Green_Band_Percent,Avoid_excessive_idling_saveupto,Fuel_Saving_by,Running_Percent,Idling_Percent,Stopped_Perecent,Total_Service_Alerts,Veh_Expired_in_June_2020,Vehicles_due_for_expiry_in_July_2020,Vehicles_renewed_in_june_2020)\n",
    "with open(\"new file.csv\",\"w\") as file:\n",
    "    ##csv.writer(file).write(userid, Transporter_Name, Fleet_Size, Utlized_Veh,Utilization_Percent,Tot_Dis_Cov,Tot_Fuel_Consumed,Avg_Fuel_Efficiency,Avg_Speed,Dist_Travelled_Per_Veh_Per_day,Idling_Hrs,Idling_Fuel_Cost,Green_Band_Percent,Avoid_excessive_idling_saveupto,Fuel_Saving_by,Running_Percent,Idling_Percent,Stopped_Perecent,Total_Service_Alerts,Veh_Expired_in_June_2020,Vehicles_due_for_expiry_in_July_2020,Vehicles_renewed_in_june_2020)\n",
    "\n",
    "    ##for row in records:\n",
    "    csv.writer(file).writerow(column_names)\n",
    "    csv.writer(file).writerows(records)\n",
    "\n",
    "read_file = pd.read_csv ('new file.csv')\n",
    "##workbook = Workbook('Lakki_file.xlsx')\n",
    "read_file.to_excel ('File name.xlsx', index = None, header=True)\n",
    "\n",
    "\n",
    "\n",
    "    "
   ]
  },
  {
   "cell_type": "code",
   "execution_count": 4,
   "metadata": {},
   "outputs": [
    {
     "name": "stdout",
     "output_type": "stream",
     "text": [
      "1,000,000\n"
     ]
    }
   ],
   "source": [
    "number_with_commas = \"{:,}\".format(1000000)\n",
    "\n",
    "print(number_with_commas)"
   ]
  },
  {
   "cell_type": "code",
   "execution_count": null,
   "metadata": {},
   "outputs": [],
   "source": []
  }
 ],
 "metadata": {
  "kernelspec": {
   "display_name": "Python 3",
   "language": "python",
   "name": "python3"
  },
  "language_info": {
   "codemirror_mode": {
    "name": "ipython",
    "version": 3
   },
   "file_extension": ".py",
   "mimetype": "text/x-python",
   "name": "python",
   "nbconvert_exporter": "python",
   "pygments_lexer": "ipython3",
   "version": "3.7.1"
  }
 },
 "nbformat": 4,
 "nbformat_minor": 2
}

{
 "cells": [
  {
   "cell_type": "code",
   "execution_count": 24,
   "metadata": {},
   "outputs": [
    {
     "data": {
      "text/plain": [
       "(221, b'2.0.0 closing connection w3sm14617414pff.56 - gsmtp')"
      ]
     },
     "execution_count": 24,
     "metadata": {},
     "output_type": "execute_result"
    }
   ],
   "source": [
    "import smtplib\n",
    "from email.mime.multipart import MIMEMultipart\n",
    "from email.mime.text import MIMEText\n",
    "from email.mime.base import MIMEBase\n",
    "\n",
    "\n",
    "email_user = 'madhuri12971@gmail.com'\n",
    "email_send = 'madhuri12971@gmail.com'\n",
    "email_receiver = 'madhuri12971@gmail.com'\n",
    "server = smtplib.SMTP('smtp.gmail.com', 587)\n",
    "\n",
    "server.starttls()\n",
    "server.ehlo()\n",
    "\n",
    "server.login('madhuri12971@gmail.com', 'reddylakki@111')\n",
    "\n",
    "\n",
    "msg = MIMEMultipart()\n",
    "msg['From'] = email_send\n",
    "msg['To'] = email_receiver\n",
    "msg['Subject'] = 'Python Auto-mailer'\n",
    "message = 'Auto/Daily Mailer With excel and PDF attachment'\n",
    "msg.attach(MIMEText(message))\n",
    "text = msg.as_string()\n",
    "\n",
    "\n",
    "server.sendmail(email_send, email_receiver, text)\n",
    "server.quit()"
   ]
  },
  {
   "cell_type": "code",
   "execution_count": null,
   "metadata": {},
   "outputs": [],
   "source": [
    "import smtplib\n",
    "from email.mime.multipart import MIMEMultipart\n",
    "from email.mime.text import MIMEText\n",
    "from email.mime.base import MIMEBase\n",
    "from email import encoders\n",
    "import time\n",
    "import os\n",
    "\n",
    "msg = MIMEMultipart()\n",
    "msg['From'] = EMAIL_FROM\n",
    "msg['To'] = \", \".join(RECIPIENT_LIST)\n",
    "msg['Subject'] = 'Louisiana Contractors List'\n",
    "\n",
    "#email content\n",
    "message = \"\"\"<html>\n",
    "<body>\n",
    "Attached is the Louisiana Contractors Spreadsheet.\n",
    "<br><br>\n",
    "\n",
    "Let me know if you have any questions\n",
    "\n",
    "</body>\n",
    "</html>\n",
    "\"\"\"\n",
    "\n",
    "msg.attach(MIMEText(message, 'html'))\n",
    "\n",
    "files = [\n",
    "    'C:/Users/rkrouse/Downloads/search-results.csv',\n",
    "    'C:/Users/rkrouse/Downloads/search-results(1).csv',\n",
    "    'C:/Users/rkrouse/Downloads/search-results(2).csv']\n",
    "\n",
    "for a_file in files:\n",
    "    attachment = open(a_file, 'rb')\n",
    "    file_name = os.path.basename(a_file)\n",
    "    part = MIMEBase('application','octet-stream')\n",
    "    part.set_payload(attachment.read())\n",
    "    part.add_header('Content-Disposition',\n",
    "                    'attachment',\n",
    "                    filename=file_name)\n",
    "    encoders.encode_base64(part)\n",
    "    msg.attach(part)\n",
    "\n",
    "#sends email\n",
    "\n",
    "smtpserver = smtplib.SMTP(EMAIL_SERVER, EMAIL_PORT)\n",
    "smtpserver.sendmail(EMAIL_FROM, RECIPIENT_LIST, msg.as_string())\n",
    "smtpserver.quit()"
   ]
  }
 ],
 "metadata": {
  "kernelspec": {
   "display_name": "Python 3",
   "language": "python",
   "name": "python3"
  },
  "language_info": {
   "codemirror_mode": {
    "name": "ipython",
    "version": 3
   },
   "file_extension": ".py",
   "mimetype": "text/x-python",
   "name": "python",
   "nbconvert_exporter": "python",
   "pygments_lexer": "ipython3",
   "version": "3.7.1"
  }
 },
 "nbformat": 4,
 "nbformat_minor": 2
}

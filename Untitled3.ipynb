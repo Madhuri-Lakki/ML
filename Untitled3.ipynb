{
 "cells": [
  {
   "cell_type": "code",
   "execution_count": 14,
   "metadata": {},
   "outputs": [
    {
     "ename": "IndexError",
     "evalue": "list index out of range",
     "output_type": "error",
     "traceback": [
      "\u001b[1;31m---------------------------------------------------------------------------\u001b[0m",
      "\u001b[1;31mIndexError\u001b[0m                                Traceback (most recent call last)",
      "\u001b[1;32m<ipython-input-14-53c9eff00478>\u001b[0m in \u001b[0;36m<module>\u001b[1;34m\u001b[0m\n\u001b[0;32m     20\u001b[0m \u001b[1;33m\u001b[0m\u001b[0m\n\u001b[0;32m     21\u001b[0m     \u001b[1;32mfor\u001b[0m \u001b[0mr\u001b[0m \u001b[1;32min\u001b[0m \u001b[0mrange\u001b[0m\u001b[1;33m(\u001b[0m\u001b[1;36m1\u001b[0m\u001b[1;33m,\u001b[0m\u001b[0msheet\u001b[0m\u001b[1;33m.\u001b[0m\u001b[0mncols\u001b[0m\u001b[1;33m)\u001b[0m\u001b[1;33m:\u001b[0m\u001b[1;33m\u001b[0m\u001b[1;33m\u001b[0m\u001b[0m\n\u001b[1;32m---> 22\u001b[1;33m             \u001b[0muserid\u001b[0m                \u001b[1;33m=\u001b[0m \u001b[0msheet\u001b[0m\u001b[1;33m.\u001b[0m\u001b[0mcell\u001b[0m\u001b[1;33m(\u001b[0m\u001b[0mr\u001b[0m\u001b[1;33m,\u001b[0m\u001b[1;36m0\u001b[0m\u001b[1;33m)\u001b[0m\u001b[1;33m.\u001b[0m\u001b[0mvalue\u001b[0m\u001b[1;33m\u001b[0m\u001b[1;33m\u001b[0m\u001b[0m\n\u001b[0m\u001b[0;32m     23\u001b[0m             \u001b[0mTransporter_Name\u001b[0m      \u001b[1;33m=\u001b[0m \u001b[0msheet\u001b[0m\u001b[1;33m.\u001b[0m\u001b[0mcell\u001b[0m\u001b[1;33m(\u001b[0m\u001b[0mr\u001b[0m\u001b[1;33m,\u001b[0m\u001b[1;36m1\u001b[0m\u001b[1;33m)\u001b[0m\u001b[1;33m.\u001b[0m\u001b[0mvalue\u001b[0m\u001b[1;33m\u001b[0m\u001b[1;33m\u001b[0m\u001b[0m\n\u001b[0;32m     24\u001b[0m             \u001b[0mFleet_Size\u001b[0m      \u001b[1;33m=\u001b[0m \u001b[0msheet\u001b[0m\u001b[1;33m.\u001b[0m\u001b[0mcell\u001b[0m\u001b[1;33m(\u001b[0m\u001b[0mr\u001b[0m\u001b[1;33m,\u001b[0m\u001b[1;36m2\u001b[0m\u001b[1;33m)\u001b[0m\u001b[1;33m.\u001b[0m\u001b[0mvalue\u001b[0m\u001b[1;33m\u001b[0m\u001b[1;33m\u001b[0m\u001b[0m\n",
      "\u001b[1;32mC:\\ProgramData\\Anaconda3\\lib\\site-packages\\xlrd\\sheet.py\u001b[0m in \u001b[0;36mcell\u001b[1;34m(self, rowx, colx)\u001b[0m\n\u001b[0;32m    410\u001b[0m             \u001b[0mxfx\u001b[0m \u001b[1;33m=\u001b[0m \u001b[1;32mNone\u001b[0m\u001b[1;33m\u001b[0m\u001b[1;33m\u001b[0m\u001b[0m\n\u001b[0;32m    411\u001b[0m         return Cell(\n\u001b[1;32m--> 412\u001b[1;33m             \u001b[0mself\u001b[0m\u001b[1;33m.\u001b[0m\u001b[0m_cell_types\u001b[0m\u001b[1;33m[\u001b[0m\u001b[0mrowx\u001b[0m\u001b[1;33m]\u001b[0m\u001b[1;33m[\u001b[0m\u001b[0mcolx\u001b[0m\u001b[1;33m]\u001b[0m\u001b[1;33m,\u001b[0m\u001b[1;33m\u001b[0m\u001b[1;33m\u001b[0m\u001b[0m\n\u001b[0m\u001b[0;32m    413\u001b[0m             \u001b[0mself\u001b[0m\u001b[1;33m.\u001b[0m\u001b[0m_cell_values\u001b[0m\u001b[1;33m[\u001b[0m\u001b[0mrowx\u001b[0m\u001b[1;33m]\u001b[0m\u001b[1;33m[\u001b[0m\u001b[0mcolx\u001b[0m\u001b[1;33m]\u001b[0m\u001b[1;33m,\u001b[0m\u001b[1;33m\u001b[0m\u001b[1;33m\u001b[0m\u001b[0m\n\u001b[0;32m    414\u001b[0m             \u001b[0mxfx\u001b[0m\u001b[1;33m,\u001b[0m\u001b[1;33m\u001b[0m\u001b[1;33m\u001b[0m\u001b[0m\n",
      "\u001b[1;31mIndexError\u001b[0m: list index out of range"
     ]
    }
   ],
   "source": [
    "import xlrd\n",
    "import mysql.connector\n",
    "from mysql.connector import Error\n",
    "\n",
    "\n",
    "book = xlrd.open_workbook(\"my_excel.xlsx\")\n",
    "\n",
    "sheet = book.sheet_by_name(\"Sheet1\")\n",
    "##sheet = book.sheet_by_index(\"Sheet1\")\n",
    "\n",
    "\n",
    "\n",
    "try:\n",
    "    connection = mysql.connector.connect(host='localhost',\n",
    "                                         database='IALERT_MONTHLY_REPPORTDB',\n",
    "                                         user='root',\n",
    "                                         password='Lakki@123')\n",
    "    cursor = connection.cursor()\n",
    "    sql_Insert_Query = \"\"\"INSERT INTO IALERT_REPORT (userid, Transporter_Name, Fleet_Size, Utlized_Veh,Utilization_Percent,Tot_Dis_Cov,Tot_Fuel_Consumed,Avg_Fuel_Efficiency,Avg_Speed,Dist_Travelled_Per_Veh_Per_day,Idling_Hrs,Idling_Fuel_Cost,Green_Band_Percent,Avoid_excessive_idling_saveupto,Fuel_Saving_by,Running_Percent,Idling_Percent,Stopped_Perecent,Total_Service_Alerts,Veh_Expired_in_June_2020,Vehicles_due_for_expiry_in_July_2020,Vehicles_renewed_in_june_2020) VALUES(%s, %s, %s, %s, %s,%s, %s, %s, %s, %s,%s, %s, %s, %s, %s,%s, %s, %s, %s, %s, %s, %s);\"\"\"\n",
    "\n",
    "    for r in range(1,sheet.ncols):\n",
    "            userid                = sheet.cell(r,0).value\n",
    "            Transporter_Name      = sheet.cell(r,1).value\n",
    "            Fleet_Size      = sheet.cell(r,2).value\n",
    "            Utlized_Veh      = sheet.cell(r,3).value\n",
    "            Utilization_Percent      = sheet.cell(r,4).value\n",
    "            Tot_Dis_Cov      = sheet.cell(r,5).value\n",
    "            Tot_Fuel_Consumed      = sheet.cell(r,6).value\n",
    "            Avg_Fuel_Efficiency      = sheet.cell(r,7).value\n",
    "            Avg_Speed      = sheet.cell(r,8).value\n",
    "            Dist_Travelled_Per_Veh_Per_day      = sheet.cell(r,9).value\n",
    "            Idling_Hrs      = sheet.cell(r,10).value\n",
    "            Idling_Fuel_Cost      = sheet.cell(r,11).value\n",
    "            Green_Band_Percent      = sheet.cell(r,12).value\n",
    "            Avoid_excessive_idling_saveupto      = sheet.cell(r,13).value\n",
    "            Fuel_Saving_by      = sheet.cell(r,14).value\n",
    "            Running_Percent      = sheet.cell(r,15).value\n",
    "            Idling_Percent      = sheet.cell(r,16).value\n",
    "            Stopped_Perecent      = sheet.cell(r,17).value\n",
    "            Total_Service_Alerts      = sheet.cell(r,18).value\n",
    "            Veh_Expired_in_June_2020      = sheet.cell(r,19).value\n",
    "            Vehicles_due_for_expiry_in_July_2020      = sheet.cell(r,20).value\n",
    "            Vehicles_renewed_in_june_2020      = sheet.cell(r,21).value\n",
    "            \n",
    "            values = (userid, Transporter_Name, Fleet_Size, Utlized_Veh,Utilization_Percent,Tot_Dis_Cov,Tot_Fuel_Consumed,Avg_Fuel_Efficiency,Avg_Speed,Dist_Travelled_Per_Veh_Per_day,Idling_Hrs,Idling_Fuel_Cost,Green_Band_Percent,Avoid_excessive_idling_saveupto,Fuel_Saving_by,Running_Percent,Idling_Percent,Stopped_Perecent,Total_Service_Alerts,Veh_Expired_in_June_2020,Vehicles_due_for_expiry_in_July_2020,Vehicles_renewed_in_june_2020)\n",
    "    \n",
    "            \n",
    "            cursor.execute(sql_Insert_Query, values)\n",
    "    \n",
    "    ##headers = [col[0] for col in cursor.description]\n",
    "    ##records = (headers) + records\n",
    "    print(\"Fetching each row using column name\")\n",
    "\n",
    "except Error as e:\n",
    "    print(\"Error reading data from MySQL table\", e)"
   ]
  },
  {
   "cell_type": "code",
   "execution_count": null,
   "metadata": {},
   "outputs": [],
   "source": []
  },
  {
   "cell_type": "code",
   "execution_count": null,
   "metadata": {},
   "outputs": [],
   "source": []
  }
 ],
 "metadata": {
  "kernelspec": {
   "display_name": "Python 3",
   "language": "python",
   "name": "python3"
  },
  "language_info": {
   "codemirror_mode": {
    "name": "ipython",
    "version": 3
   },
   "file_extension": ".py",
   "mimetype": "text/x-python",
   "name": "python",
   "nbconvert_exporter": "python",
   "pygments_lexer": "ipython3",
   "version": "3.7.1"
  }
 },
 "nbformat": 4,
 "nbformat_minor": 2
}
